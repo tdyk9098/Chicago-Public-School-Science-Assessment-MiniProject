{
 "cells": [
  {
   "cell_type": "code",
   "execution_count": null,
   "id": "04bfbd50",
   "metadata": {},
   "outputs": [],
   "source": [
    "import numpy as np\n",
    "import pandas as pd\n",
    "import matplotlib.pyplot as plt\n",
    "import seaborn as sns"
   ]
  },
  {
   "cell_type": "code",
   "execution_count": null,
   "id": "e876dd6b",
   "metadata": {},
   "outputs": [],
   "source": [
    "# Source:\n",
    "# https://www.cps.edu/globalassets/cps-pages/about-cps/district-data/metrics/assessment-reports/isa-2016-2019-citywide.xls"
   ]
  },
  {
   "cell_type": "code",
   "execution_count": null,
   "id": "7e5e1b97",
   "metadata": {},
   "outputs": [],
   "source": [
    "# Citywide Chicago Public School Science Assessment Reports 2016 - 2019\n",
    "# Place CSV file within same directory as Jupyter Notebook\n",
    "df1 = pd.read_excel(\"isa-2016-2019-citywide.xls\", sheet_name = \"ISA Results\", skiprows = 1)\n",
    "df1.info()"
   ]
  },
  {
   "cell_type": "code",
   "execution_count": null,
   "id": "016235df",
   "metadata": {},
   "outputs": [],
   "source": [
    "# Each Strata Category of Students\n",
    "print(df1[\"Category\"].unique())"
   ]
  },
  {
   "cell_type": "code",
   "execution_count": null,
   "id": "8caa4bf7",
   "metadata": {},
   "outputs": [],
   "source": [
    "# Each Category \n",
    "print(df1[\"Grade Level or Test\"].unique())"
   ]
  },
  {
   "cell_type": "code",
   "execution_count": null,
   "id": "4ed3b701",
   "metadata": {},
   "outputs": [],
   "source": [
    "# Scaled Mean Scores \n",
    "sns.lmplot(x = \"Year\", y = \"Overall Mean Scale Score\", data = df1[df1[\"Category\"]==\"All\"],hue = \"Grade Level or Test\", markers = [\"o\",\"v\",\"+\"],line_kws = {\"ls\":\"--\"}, height = 5, aspect = 2)\n",
    "plt.title(\"Scaled Mean Scores From 2016-2019\")"
   ]
  },
  {
   "cell_type": "code",
   "execution_count": null,
   "id": "0c3e1d9e",
   "metadata": {},
   "outputs": [],
   "source": [
    "# Scaled Mean Scores over ALL Grade Levels\n",
    "oms = sns.histplot(df1[df1[\"Category\"]==\"All\"][\"Overall Mean Scale Score\"], kde = True, stat = \"density\", bins = 10)\n",
    "oms.set_title (\"Overall Mean Score from Grade 5, Grade 8, and HS Biology over 2016-2019\")\n",
    "sns.set(rc={'figure.figsize':(15,5)})\n",
    "plt.tight_layout()"
   ]
  },
  {
   "cell_type": "code",
   "execution_count": null,
   "id": "4eea76cf",
   "metadata": {},
   "outputs": [],
   "source": [
    "# % Proficient over ALL Grade Levels\n",
    "pp = sns.histplot(df1[df1[\"Category\"]==\"All\"][\"% Proficient\"], kde = True, stat = \"density\", bins = 10)\n",
    "pp.set_title (\"% Proficient in Grade 5, Grade 8, and HS Biology over 2016-2019\")\n",
    "sns.set(rc={'figure.figsize':(15,5)})\n",
    "plt.tight_layout()"
   ]
  },
  {
   "cell_type": "code",
   "execution_count": null,
   "id": "61b59e5c",
   "metadata": {},
   "outputs": [],
   "source": [
    "# Scaled Mean Scores over ALL Grade Levels by Gender\n",
    "gender = df1[df1[\"Category\"]==\"Gender\"]\n",
    "omsg = sns.boxplot(x = \"Group\", y = \"Overall Mean Scale Score\", data = gender, palette = \"tab10\", hue = \"Grade Level or Test\")\n",
    "omsg.set_title(\"Overall Mean Scores by Gender and Age Group\")\n",
    "omsg.set_xlabel(\"Gender\")\n",
    "plt.tight_layout()"
   ]
  },
  {
   "cell_type": "code",
   "execution_count": null,
   "id": "5626eab6",
   "metadata": {},
   "outputs": [],
   "source": [
    "# % Proficient over ALL Grade Levels by Gender\n",
    "omsg2 = sns.barplot(x = \"Group\", y = \"% Proficient\", data = gender, palette = \"tab10\", hue = \"Grade Level or Test\")\n",
    "omsg2.set_title(\"% Proficient by Gender and Age Group\")\n",
    "omsg2.set_xlabel(\"Gender\")\n",
    "plt.tight_layout()"
   ]
  },
  {
   "cell_type": "code",
   "execution_count": null,
   "id": "9c4e837b",
   "metadata": {},
   "outputs": [],
   "source": [
    "# Scaled Mean Scores over ALL Grade Levels by Race and Ethnicity\n",
    "raeth = df1[(df1[\"Category\"]==\"Race and Ethnicity\")&(df1[\"Group\"]!=\"Unknown Race\")]\n",
    "raethg = sns.boxplot(x = \"Group\", y = \"Overall Mean Scale Score\", data = raeth, palette = \"hls\",hue = \"Grade Level or Test\")\n",
    "raethg.set_title(\"Overall Mean Scores by Race and Ethnicity\")\n",
    "raethg.set_xlabel(\"Race and Ethnicity\")\n",
    "plt.tight_layout()"
   ]
  },
  {
   "cell_type": "code",
   "execution_count": null,
   "id": "d92cb84e",
   "metadata": {},
   "outputs": [],
   "source": [
    "# % Proficient over ALL Grade Levels by Race and Ethnicity\n",
    "raethg2 = sns.barplot(x = \"Group\", y = \"% Proficient\", data = raeth, palette = \"hls\", hue = \"Grade Level or Test\")\n",
    "raethg2.set_title(\"% Proficient by Race and Ethnicity\")\n",
    "raethg2.set_xlabel(\"Race and Ethnicity\")\n",
    "plt.tight_layout()"
   ]
  },
  {
   "cell_type": "code",
   "execution_count": null,
   "id": "e93345c8",
   "metadata": {},
   "outputs": [],
   "source": [
    "# Scaled Mean Scores over ALL Grade Levels by English Proficiency\n",
    "engp = df1[(df1[\"Category\"]==\"Students in CPS English Language Learner Programs\")|(df1[\"Category\"]==\"Students Designated English Language Learners by the State\")]\n",
    "engpg = sns.boxplot(x = \"Group\", y = \"Overall Mean Scale Score\", data = engp, palette = \"rocket\", hue = \"Grade Level or Test\")\n",
    "engpg.set_title(\"Overall Mean Score by English Learner Status\")\n",
    "engpg.set_xlabel(\"English Learner Status\")\n",
    "plt.tight_layout()"
   ]
  },
  {
   "cell_type": "code",
   "execution_count": null,
   "id": "2284bb04",
   "metadata": {},
   "outputs": [],
   "source": [
    "# % Proficient over ALL Grade Levels by English Proficiency\n",
    "engpg2 = sns.barplot(x = \"Group\", y = \"% Proficient\", data = engp, palette = \"rocket\", hue = \"Grade Level or Test\")\n",
    "engpg2.set_title(\"% Proficent by English Learner Status\")\n",
    "engpg2.set_xlabel(\"English Learner Status\")\n",
    "plt.tight_layout()"
   ]
  },
  {
   "cell_type": "code",
   "execution_count": null,
   "id": "1a266a70",
   "metadata": {},
   "outputs": [],
   "source": [
    "# Scaled Mean Scores over ALL Grade Levels by Economic Strata\n",
    "ed = df1[(df1[\"Category\"]==\"Economically Disadvantaged Students\")]\n",
    "edg = sns.boxplot(x = \"Group\", y = \"Overall Mean Scale Score\", data = ed, palette = \"mako\", hue = \"Grade Level or Test\")\n",
    "edg.set_title(\"Overall Mean Score by Economic Disadvantage Status\")\n",
    "edg.set_xlabel(\"Economically Disadvantaged Status\")\n",
    "plt.tight_layout()"
   ]
  },
  {
   "cell_type": "code",
   "execution_count": null,
   "id": "ec3bba17",
   "metadata": {},
   "outputs": [],
   "source": [
    "# % Proficient over ALL Grade Levels by Economic Strata\n",
    "edg2 = sns.barplot(x = \"Group\", y = \"% Proficient\", data = ed, palette = \"mako\", hue = \"Grade Level or Test\")\n",
    "edg2.set_title(\"% Proficient by Economic Disadvantage Status\")\n",
    "edg2.set_xlabel(\"Economically Disadvantaged Status\")\n",
    "plt.tight_layout()"
   ]
  },
  {
   "cell_type": "code",
   "execution_count": null,
   "id": "1343575d",
   "metadata": {},
   "outputs": [],
   "source": [
    "# Graph of Mean Score by Gender and Test Level / Grade\n",
    "gen = gender.drop(\"Category\", axis = 1)\n",
    "\n",
    "gens = sns.FacetGrid(data = gen, col = \"Grade Level or Test\", row = \"Group\", height = 6, aspect = 1)\n",
    "gens.map(sns.histplot,\"Overall Mean Scale Score\", kde = True)\n",
    "gens.fig.suptitle(\"Mean Score Distribution by Gender and Grade\")\n",
    "plt.tight_layout()"
   ]
  },
  {
   "cell_type": "code",
   "execution_count": null,
   "id": "fceaf0f0",
   "metadata": {},
   "outputs": [],
   "source": [
    "# Graph of Mean Score and % Proficient\n",
    "gens2 = sns.FacetGrid ( data = gen, col = \"Grade Level or Test\", row = \"Group\", height = 6, aspect = 1)\n",
    "gens2.map(sns.scatterplot,\"Overall Mean Scale Score\",\"% Proficient\")\n",
    "gens2.fig.suptitle(\"Mean Score and % Proficient by Gender and Grade\")\n",
    "plt.tight_layout()"
   ]
  },
  {
   "cell_type": "code",
   "execution_count": null,
   "id": "9b209f2e",
   "metadata": {},
   "outputs": [],
   "source": [
    "gens3 = sns.lmplot(x = \"Overall Mean Scale Score\", y = \"% Proficient\", data = gen, hue = \"Group\", col = \"Grade Level or Test\", markers = [\"o\",\"v\"], scatter_kws={\"s\":100}, line_kws={\"ls\":\"--\",\"lw\":2})\n",
    "gens3.fig.suptitle(\"Mean Score and % Proficient by Gender and Grade\")\n",
    "plt.tight_layout()"
   ]
  },
  {
   "cell_type": "code",
   "execution_count": null,
   "id": "9c3629c1",
   "metadata": {},
   "outputs": [],
   "source": [
    "# Male Study\n",
    "m1 = df1[\"Group\"].str.contains(\"/male\", case = False, na = False)\n",
    "m2 = df1[\"Group\"].str.lower().isin([\"male\"])\n",
    "male = df1[m1|m2]\n",
    "\n",
    "male_1 = male[male[\"Group\"]!=\"Unknown Race/Male\"]\n",
    "male_1"
   ]
  },
  {
   "cell_type": "code",
   "execution_count": null,
   "id": "0fc80ab4",
   "metadata": {},
   "outputs": [],
   "source": [
    "# Heat Map for Males by Average Score and Year\n",
    "mah = sns.heatmap(male_1.pivot_table(index = \"Group\", columns = \"Year\", values = \"Overall Mean Scale Score\"), linecolor = \"white\",linewidth = 2, cmap = \"crest\")\n",
    "mah.set_title(\"Mean Score by Group of Males by Year\")"
   ]
  },
  {
   "cell_type": "code",
   "execution_count": null,
   "id": "43c1635a",
   "metadata": {},
   "outputs": [],
   "source": [
    "# Cluster Map for Males by Average Score and Year\n",
    "mas = sns.clustermap(male_1.pivot_table(index = \"Group\", columns = \"Year\", values = \"Overall Mean Scale Score\"), cmap = \"crest\")\n",
    "mas.fig.suptitle(\"Mean Score Cluster Map\")\n",
    "plt.tight_layout()"
   ]
  },
  {
   "cell_type": "code",
   "execution_count": null,
   "id": "7e757565",
   "metadata": {},
   "outputs": [],
   "source": [
    "# Heat Map for Males by % Proficient and Year\n",
    "mph = sns.heatmap(male_1.pivot_table(index = \"Group\", columns = \"Year\", values = \"% Proficient\"), linecolor = \"white\",linewidth = 2, cmap = \"cubehelix\")\n",
    "mph.set_title(\"% Proficient by Group of Males by Year\")"
   ]
  },
  {
   "cell_type": "code",
   "execution_count": null,
   "id": "b85cad01",
   "metadata": {},
   "outputs": [],
   "source": [
    "# Cluster Map for Males by % Proficient and Year\n",
    "mps = sns.clustermap(male_1.pivot_table(index = \"Group\", columns = \"Year\", values = \"% Proficient\"), cmap = \"cubehelix\")\n",
    "mps.fig.suptitle(\"% Proficient by Group of Males by Year\")\n",
    "plt.tight_layout()"
   ]
  },
  {
   "cell_type": "code",
   "execution_count": null,
   "id": "2c4907fd",
   "metadata": {},
   "outputs": [],
   "source": [
    "# Female Study\n",
    "f1 = df1[\"Group\"].str.contains(\"/female\", case = False, na = False)\n",
    "f2 = df1[\"Group\"].str.lower().isin([\"female\"])\n",
    "female = df1[f1|f2]\n",
    "\n",
    "female_1 = female[female[\"Group\"]!=\"Unknown Race/Female\"]\n",
    "female_1"
   ]
  },
  {
   "cell_type": "code",
   "execution_count": null,
   "id": "4649c0ea",
   "metadata": {},
   "outputs": [],
   "source": [
    "# Heat Map for Females by Average Score and Year\n",
    "fah = sns.heatmap(female_1.pivot_table(index = \"Group\", columns = \"Year\", values = \"Overall Mean Scale Score\"), linecolor = \"white\",linewidth = 2, cmap = \"Blues\")\n",
    "fah.set_title(\"Mean Score by Group of Females by Year\")"
   ]
  },
  {
   "cell_type": "code",
   "execution_count": null,
   "id": "9c748ab7",
   "metadata": {},
   "outputs": [],
   "source": [
    "# Cluster Map for Females by Average Score and Year\n",
    "fas = sns.clustermap(female_1.pivot_table(index = \"Group\", columns = \"Year\", values = \"Overall Mean Scale Score\"), cmap = \"Blues\")\n",
    "fas.fig.suptitle(\"Mean Score Cluster Map\")\n",
    "plt.tight_layout()"
   ]
  },
  {
   "cell_type": "code",
   "execution_count": null,
   "id": "df053dd7",
   "metadata": {},
   "outputs": [],
   "source": [
    "# Heat Map for Females by % Proficient and Year\n",
    "fph = sns.heatmap(female_1.pivot_table(index = \"Group\", columns = \"Year\", values = \"% Proficient\"), linecolor = \"white\",linewidth = 2, cmap = \"vlag\")\n",
    "fph.set_title(\"% Proficient by Group of Females by Year\")"
   ]
  },
  {
   "cell_type": "code",
   "execution_count": null,
   "id": "23995cb5",
   "metadata": {},
   "outputs": [],
   "source": [
    "# Cluster Map for Females by % Proficient and Year\n",
    "fps = sns.clustermap(male_1.pivot_table(index = \"Group\", columns = \"Year\", values = \"% Proficient\"), cmap = \"vlag\")\n",
    "fps.fig.suptitle(\"% Proficient by Group of Females by Year\")\n",
    "plt.tight_layout()"
   ]
  }
 ],
 "metadata": {
  "kernelspec": {
   "display_name": "Python 3 (ipykernel)",
   "language": "python",
   "name": "python3"
  },
  "language_info": {
   "codemirror_mode": {
    "name": "ipython",
    "version": 3
   },
   "file_extension": ".py",
   "mimetype": "text/x-python",
   "name": "python",
   "nbconvert_exporter": "python",
   "pygments_lexer": "ipython3",
   "version": "3.9.7"
  }
 },
 "nbformat": 4,
 "nbformat_minor": 5
}
